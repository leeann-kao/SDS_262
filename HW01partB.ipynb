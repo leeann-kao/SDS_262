{
 "cells": [
  {
   "cell_type": "markdown",
   "id": "011adcd8-0d7b-4b1a-a782-583545ab1d12",
   "metadata": {},
   "source": [
    "# Assignment 1 part B"
   ]
  },
  {
   "cell_type": "code",
   "execution_count": 1,
   "id": "4d121696-c5a8-41d7-845b-976d04b53f5e",
   "metadata": {
    "tags": []
   },
   "outputs": [],
   "source": [
    "import numpy as np"
   ]
  },
  {
   "cell_type": "markdown",
   "id": "f228fa47-2a4e-40cd-8e78-da716692f46b",
   "metadata": {},
   "source": [
    "## B.1. Vectorization in Numpy"
   ]
  },
  {
   "cell_type": "markdown",
   "id": "e739cbdf-76cc-42ef-9195-a812d49f1d81",
   "metadata": {},
   "source": [
    "Vectorization refers to the practice of replacing explicit loops with array expressions, which leads to more efficient, readable, and concise code. \n",
    "\n",
    "Let's see why this is useful. We will compare adding up two arrays in the two approaches."
   ]
  },
  {
   "cell_type": "code",
   "execution_count": 3,
   "id": "c314ec3b-e531-4e0a-ba7b-4a88875d18db",
   "metadata": {
    "tags": []
   },
   "outputs": [],
   "source": [
    "import numpy as np\n",
    "# Set random seed. This ensures that we always get the same random numbers when we run this cell in the notebook.\n",
    "np.random.seed(123)\n",
    "# Create Arrays\n",
    "a = np.random.rand(1000000)\n",
    "b = np.random.rand(1000000)"
   ]
  },
  {
   "cell_type": "code",
   "execution_count": null,
   "id": "e093135e-d646-48d7-b332-fcdf5a5751c8",
   "metadata": {},
   "outputs": [],
   "source": []
  },
  {
   "cell_type": "markdown",
   "id": "27e5163e-2d1c-4c72-a20e-ecf5c0f77b12",
   "metadata": {
    "editable": false
   },
   "source": [
    "**Question (a):** \n",
    "\n",
    "Write a function `add_with_loop`` that takes two arrays and returns a new array where each element is the sum of the elements at the corresponding position in the original arrays. Use Python loops to iterate over the arrays.\n",
    "\n",
    "Write a function `add_with_vectorization`` that performs the same operation, but uses NumPy's vectorized operations."
   ]
  },
  {
   "cell_type": "code",
   "execution_count": 36,
   "id": "0dc63a94-fb75-4e32-a917-2c04642f70ae",
   "metadata": {
    "tags": []
   },
   "outputs": [],
   "source": [
    "def add_with_loop(a, b):\n",
    "    \"\"\"\n",
    "    Perform elementwise addition of two one-dimensional arrays.\n",
    "\n",
    "    Parameters:\n",
    "    - a (np.ndarray): The first one-dimensional array.\n",
    "    - b (np.ndarray): The second one-dimensional array.\n",
    "\n",
    "    Returns:\n",
    "    - result (np.ndarray): An array containing the elementwise sum of a and b.\n",
    "\n",
    "    Note:\n",
    "    1. Both arrays 'a' and 'b' must have the same length for valid elementwise addition.\n",
    "    2. The result array is calculated as result[i] = a[i] + b[i] for each element i\n",
    "       in the input arrays.\n",
    "    \"\"\"\n",
    "    assert isinstance(a, np.ndarray) and isinstance(b, np.ndarray), \"a and/or b incorrect data type\"\n",
    "    assert a.ndim == 1 and b.ndim == 1, \"a and/or b are not one-dimensional arrays\"\n",
    "    assert len(a) == len(b), \"a and b are not the same length\"\n",
    "    result = np.empty(len(a))\n",
    "    for i in range(len(a)):\n",
    "        result[i] = a[i] + b[i]\n",
    "    return result\n",
    "\n",
    "# Task 2.2: Using Vectorization\n",
    "def add_with_vectorization(a, b):\n",
    "    \"\"\"\n",
    "    Perform elementwise addition of two arrays using NumPy's add function.\n",
    "\n",
    "    Parameters:\n",
    "    - a (np.ndarray): The first array.\n",
    "    - b (np.ndarray): The second array.\n",
    "\n",
    "    Returns:\n",
    "    - result (np.ndarray): An array containing the elementwise sum of a and b.\n",
    "\n",
    "    Note:\n",
    "    1. Both arrays 'a' and 'b' must have the same shape for valid elementwise addition.\n",
    "    2. The result array is obtained by adding corresponding elements from 'a' and 'b'\n",
    "       using NumPy's add function.\n",
    "    \"\"\"\n",
    "    return np.add(a, b)"
   ]
  },
  {
   "cell_type": "markdown",
   "id": "15101d2a-677c-4824-972b-59a17235b7d8",
   "metadata": {
    "editable": false
   },
   "source": [
    "**Question (b):** \n",
    "\n",
    "Measure Execution Time: Use the `time` module to measure the execution time of both functions. Compare the time taken by add_with_loop and add_with_vectorization for the same input arrays.\n",
    "\n",
    "Write a brief analysis of the performance difference. Discuss why vectorization leads to such a difference in execution time.\n",
    "\n",
    "The following code demonstrates the time syntax:"
   ]
  },
  {
   "cell_type": "code",
   "execution_count": 6,
   "id": "cd43a8df-98b0-4f44-99de-8192db5870d3",
   "metadata": {
    "editable": false
   },
   "outputs": [
    {
     "name": "stdout",
     "output_type": "stream",
     "text": [
      "Time with loop: 0.18627619743347168 seconds\n"
     ]
    }
   ],
   "source": [
    "import time\n",
    "start_time = time.time()\n",
    "add_with_loop(a, b)\n",
    "time_with_loop = time.time() - start_time\n",
    "print(f\"Time with loop: {time_with_loop} seconds\")"
   ]
  },
  {
   "cell_type": "markdown",
   "id": "e8fc284a-2c63-4487-9e7f-f3ac8deff5df",
   "metadata": {
    "editable": false
   },
   "source": [
    "However, for full credit, you should not rely on a single iteration. Why? We discuss this briefly in class."
   ]
  },
  {
   "cell_type": "code",
   "execution_count": 7,
   "id": "25b1f9c7-0f51-4cea-8d9c-bda9d7368d5b",
   "metadata": {
    "tags": []
   },
   "outputs": [
    {
     "name": "stdout",
     "output_type": "stream",
     "text": [
      "Time with loop: 14.140784740447998 seconds\n",
      "Time with vectorization: 0.07491207122802734 seconds\n",
      "Ratio: 188.7651016537027\n"
     ]
    }
   ],
   "source": [
    "nit = 100\n",
    "\n",
    "# Measure execution time for loop-based addition\n",
    "start_time = time.time()\n",
    "for i in range(nit):\n",
    "    add_with_loop(a, b)\n",
    "time_with_loop = time.time() - start_time\n",
    "\n",
    "# Measure execution time for vectorized addition\n",
    "start_time = time.time()\n",
    "for i in range(nit):\n",
    "    add_with_vectorization(a, b)\n",
    "time_with_vectorization = time.time() - start_time\n",
    "\n",
    "# Print the results\n",
    "print(f\"Time with loop: {time_with_loop} seconds\")\n",
    "print(f\"Time with vectorization: {time_with_vectorization} seconds\")\n",
    "print(f\"Ratio: {time_with_loop/time_with_vectorization}\")"
   ]
  },
  {
   "cell_type": "markdown",
   "id": "0fe4ee25-9a40-44a9-9ca5-0ca4a9f729fa",
   "metadata": {},
   "source": [
    "Discussion of results: The time with vectorization is much quicker and more efficient than the time with the loop, being almost 200 times faster over 100 iterations. As explained in the Python Data Science Handbook, this is because of the type-checking (examining the object's type) and function dispatching (looking up the correct function to use for that type) that CPython does at each cycle of the loop. Meanwhile, the vectorized approach pushes the loop into the compiled layer that underlies NumPy, where the type specification is known before the code executes, making computation much faster."
   ]
  },
  {
   "cell_type": "markdown",
   "id": "4e5a1712-0ca4-4145-aa0a-b5522f6ccb1f",
   "metadata": {
    "editable": false
   },
   "source": [
    "**Question (c):** \n",
    "\n",
    "The \"magic function\" `%%timeit` is another way to time your functions. You can read about it in the [Python Data Science Handbook/ Jake VanderPlas](https://jakevdp.github.io/PythonDataScienceHandbook/) (interactive features). Compare the functions again using timeit."
   ]
  },
  {
   "cell_type": "code",
   "execution_count": 12,
   "id": "43328f11-ceab-4455-b7ec-0b9240dee9c1",
   "metadata": {
    "tags": []
   },
   "outputs": [
    {
     "name": "stdout",
     "output_type": "stream",
     "text": [
      "137 ms ± 1.07 ms per loop (mean ± std. dev. of 7 runs, 10 loops each)\n"
     ]
    }
   ],
   "source": [
    "big_array = np.random.randint(1, 100, size=1000000)\n",
    "%timeit add_with_loop(a, b)"
   ]
  },
  {
   "cell_type": "code",
   "execution_count": 13,
   "id": "807dd8a7-fb35-4d32-9d45-08bfbbf07577",
   "metadata": {
    "tags": []
   },
   "outputs": [
    {
     "name": "stdout",
     "output_type": "stream",
     "text": [
      "694 µs ± 9.58 µs per loop (mean ± std. dev. of 7 runs, 1,000 loops each)\n"
     ]
    }
   ],
   "source": [
    "big_array = np.random.randint(1, 100, size=1000000)\n",
    "%timeit add_with_vectorization(a, b)"
   ]
  },
  {
   "cell_type": "markdown",
   "id": "761af2f1-7126-420f-af32-a6df6a03e452",
   "metadata": {},
   "source": [
    "## B.2. Matrix Multiplication"
   ]
  },
  {
   "cell_type": "code",
   "execution_count": 44,
   "id": "f6440d85-841a-46c6-8f99-66712163d666",
   "metadata": {},
   "outputs": [],
   "source": [
    "np.random.seed(123)\n",
    "# Create Arrays\n",
    "n1=10\n",
    "n2=5\n",
    "n3=15\n",
    "A = np.random.rand(n1,n2)\n",
    "B = np.random.rand(n2,n3)"
   ]
  },
  {
   "cell_type": "markdown",
   "id": "4b6f1c6c-6752-4f16-b69b-d004bee1cc7c",
   "metadata": {
    "editable": false
   },
   "source": [
    "**Question :** (a) Explicit matrix multiplication\n",
    "\n"
   ]
  },
  {
   "cell_type": "code",
   "execution_count": 45,
   "id": "243aaee1-570e-4169-a1f0-892f87daf320",
   "metadata": {
    "tags": []
   },
   "outputs": [],
   "source": [
    "def explicit_matrix_multiplication(A, B):\n",
    "    \"\"\"\n",
    "    Multiply matrices A and B together explicitly.\n",
    "    \n",
    "    Parameters:\n",
    "    - A (np.ndarray): The first matrix with shape (m, n).\n",
    "    - B (np.ndarray): The second matrix with shape (n, p).\n",
    "\n",
    "    Returns:\n",
    "    - w (np.ndarray): The result of the matrix multiplication A * B,\n",
    "      with shape (m, p).\n",
    "\n",
    "    Note:\n",
    "    1. The number of columns in matrix A must be equal to the number of\n",
    "       rows in matrix B for valid matrix multiplication.\n",
    "    2. The resulting matrix w is calculated as w[i, j] = sum(A[i, k] * B[k, j])\n",
    "       for each element in the result matrix, where the sum is taken over the\n",
    "       common dimension 'n'.\n",
    "    \"\"\"\n",
    "    assert isinstance(A, np.ndarray) and isinstance(B, np.ndarray), \"A and/or B incorrect data type\"\n",
    "    m, n = A.shape\n",
    "    o, p = B.shape\n",
    "    assert n == o, \"The number of columns in matrix A must be equal to the number of rows in matrix B.\"\n",
    "    w = np.zeros((m, p))\n",
    "    for i in range(m):\n",
    "        for j in range(p):\n",
    "            mysum = 0\n",
    "            for k in range(n):\n",
    "                mysum = mysum+A[i,k]*B[k,j]\n",
    "            w[i, j]=mysum\n",
    "    return w"
   ]
  },
  {
   "cell_type": "code",
   "execution_count": null,
   "id": "738c6bd8-420a-42c6-8237-21517cbb718c",
   "metadata": {},
   "outputs": [],
   "source": []
  },
  {
   "cell_type": "markdown",
   "id": "b5774652-b7e7-4136-bd25-bb3cba6d1268",
   "metadata": {
    "editable": false
   },
   "source": [
    "**Question :** (b) compare your result to numpy multiplication. Are they exactly the same? What do you think is going on?"
   ]
  },
  {
   "cell_type": "code",
   "execution_count": 46,
   "id": "4c16d72d-e371-462f-a047-e51aebe39e52",
   "metadata": {
    "tags": []
   },
   "outputs": [
    {
     "name": "stdout",
     "output_type": "stream",
     "text": [
      "[[False  True  True False  True  True  True  True False  True  True False\n",
      "   True False False]\n",
      " [ True  True  True False  True  True  True  True  True False  True False\n",
      "   True  True  True]\n",
      " [ True  True False  True  True False  True  True  True  True False  True\n",
      "   True  True  True]\n",
      " [ True  True False  True  True False  True False  True  True  True  True\n",
      "  False  True False]\n",
      " [False  True  True  True  True  True  True  True  True False False  True\n",
      "  False  True  True]\n",
      " [ True False  True False False  True  True  True  True  True  True False\n",
      "  False  True  True]\n",
      " [ True  True False  True  True  True False  True  True False  True False\n",
      "   True  True  True]\n",
      " [ True  True  True  True False  True False False  True False  True  True\n",
      "   True  True False]\n",
      " [ True  True  True  True  True  True  True  True  True  True False False\n",
      "   True  True  True]\n",
      " [ True False  True False  True  True False  True  True False  True  True\n",
      "   True  True False]]\n",
      "[[ True  True  True  True  True  True  True  True  True  True  True  True\n",
      "   True  True  True]\n",
      " [ True  True  True  True  True  True  True  True  True  True  True  True\n",
      "   True  True  True]\n",
      " [ True  True  True  True  True  True  True  True  True  True  True  True\n",
      "   True  True  True]\n",
      " [ True  True  True  True  True  True  True  True  True  True  True  True\n",
      "   True  True  True]\n",
      " [ True  True  True  True  True  True  True  True  True  True  True  True\n",
      "   True  True  True]\n",
      " [ True  True  True  True  True  True  True  True  True  True  True  True\n",
      "   True  True  True]\n",
      " [ True  True  True  True  True  True  True  True  True  True  True  True\n",
      "   True  True  True]\n",
      " [ True  True  True  True  True  True  True  True  True  True  True  True\n",
      "   True  True  True]\n",
      " [ True  True  True  True  True  True  True  True  True  True  True  True\n",
      "   True  True  True]\n",
      " [ True  True  True  True  True  True  True  True  True  True  True  True\n",
      "   True  True  True]]\n"
     ]
    }
   ],
   "source": [
    "C = explicit_matrix_multiplication(A, B)\n",
    "D = A@B\n",
    "print(C==D)\n",
    "print(np.abs(C - D) < 10**(-12)*1)"
   ]
  },
  {
   "cell_type": "code",
   "execution_count": null,
   "id": "4702bb33-7d9f-4a13-9011-a3f89994c1bf",
   "metadata": {},
   "outputs": [],
   "source": []
  },
  {
   "cell_type": "markdown",
   "id": "ad9d83d8-1573-4aaa-b0d9-b5ea71511d7d",
   "metadata": {},
   "source": [
    "Discussion of Results: While the two methods appear to be the same, they are not exactly the same when using == comparison, but are \"close\" with a difference less than 10^(-12). This is because at some point the floating point is cut off before computation, leading to results that are not 100% accurate or the same based on where the loop versus numpy chooses to cut off the float (as discussed in class). This difference in computation could be because of the Python vs. compiler difference in both methods."
   ]
  },
  {
   "cell_type": "markdown",
   "id": "c2a87c92-50a6-4659-945c-c0f460b1f4e2",
   "metadata": {
    "editable": false
   },
   "source": [
    "**Question :** explicit-matrix-part_c\n",
    "\n",
    "Compare the timing to the built-in matrix multiplication in numpy."
   ]
  },
  {
   "cell_type": "code",
   "execution_count": 34,
   "id": "82b2941e-2485-4b6a-9df7-81e912b37249",
   "metadata": {
    "tags": []
   },
   "outputs": [
    {
     "name": "stdout",
     "output_type": "stream",
     "text": [
      "151 µs ± 7.03 µs per loop (mean ± std. dev. of 7 runs, 10,000 loops each)\n"
     ]
    }
   ],
   "source": [
    "big_array = np.random.randint(1, 100, size=1000000)\n",
    "%timeit explicit_matrix_multiplication(A, B)"
   ]
  },
  {
   "cell_type": "code",
   "execution_count": 35,
   "id": "77aa2140-b435-4bba-8a04-309378c2db66",
   "metadata": {
    "tags": []
   },
   "outputs": [
    {
     "name": "stdout",
     "output_type": "stream",
     "text": [
      "794 ns ± 9.36 ns per loop (mean ± std. dev. of 7 runs, 1,000,000 loops each)\n"
     ]
    }
   ],
   "source": [
    "big_array = np.random.randint(1, 100, size=1000000)\n",
    "%timeit A@B"
   ]
  },
  {
   "cell_type": "code",
   "execution_count": null,
   "id": "5f220fcd-c017-4045-a25e-702345048936",
   "metadata": {},
   "outputs": [],
   "source": []
  },
  {
   "cell_type": "markdown",
   "id": "5c6eeb30-832e-47ed-8ff7-00c8f6332836",
   "metadata": {},
   "source": [
    "Discussion of Results: The built-in matrix multiplication in numpy is much faster (794 ns +/- 9.36 ns per loop) compared to the explicit matrix multiplication (151 us +/- 7.03 per loop)."
   ]
  },
  {
   "cell_type": "markdown",
   "id": "d0ca7c4e-6c3f-4d2a-ab6a-4ef6c5121d89",
   "metadata": {},
   "source": [
    "## B.3. Calculating Distances: Broadcasting in Numpy"
   ]
  },
  {
   "cell_type": "markdown",
   "id": "8415bb8b-da69-4b1b-9255-28c6bd46b620",
   "metadata": {},
   "source": [
    "In the next cell we create a dataset with two sets of two dimensional points. Each row represents a point.\n",
    "\n",
    "The Euclidean distance between two points p and q (each a vector of length 2) is $\\sqrt{(p-q,q-q)} = \\sqrt{\\sum_{j=1}^2 (p[j]-q[j])^2 }$."
   ]
  },
  {
   "cell_type": "code",
   "execution_count": 12,
   "id": "7a73f210-fcde-430e-a50f-ae23beb150c0",
   "metadata": {},
   "outputs": [],
   "source": [
    "np.random.seed(123)\n",
    "# Create Arrays\n",
    "distn1=1000\n",
    "distn2=1500\n",
    "distdim = 2\n",
    "a = np.random.rand(distn1,distdim)\n",
    "b = np.random.rand(distn2,distdim)"
   ]
  },
  {
   "cell_type": "markdown",
   "id": "afebf791-c563-4783-8aca-f619fd12fcd6",
   "metadata": {
    "editable": false
   },
   "source": [
    "**Question :** (a) Distance between two points.\n",
    "\n",
    "Write a function that takes two points and computes the distance between them. For full credit, use numpy functionlity, not the explicit loop over axes, and make it work for any dimension."
   ]
  },
  {
   "cell_type": "code",
   "execution_count": 13,
   "id": "4c2e2e94-4a89-470c-b1d9-e6457df42539",
   "metadata": {
    "tags": []
   },
   "outputs": [],
   "source": [
    "def dist_two_points(p1 , p2):\n",
    "    \"\"\"\n",
    "    Calculate the Euclidean distance between two points in N-dimensional space.\n",
    "\n",
    "    Parameters:\n",
    "    - p1 (np.ndarray): The coordinates of the first point.\n",
    "    - p2 (np.ndarray): The coordinates of the second point.\n",
    "\n",
    "    Returns:\n",
    "    - distance (float): The Euclidean distance between the two points.\n",
    "\n",
    "    Note:\n",
    "    1. Both points 'p1' and 'p2' have the same dimensionality (number of\n",
    "       coordinates) for valid distance calculation.\n",
    "    2. The Euclidean distance is calculated as the square root of the sum of squared\n",
    "       differences between corresponding coordinates of the two points.\n",
    "    \"\"\"\n",
    "    assert isinstance(p1, np.ndarray) and isinstance(p2, np.ndarray), \"p1 and/or p2 incorrect data type\"\n",
    "    assert p1.ndim == p2.ndim, \"p1 and p2 are not of the same dimension\"\n",
    "    if p1.ndim == 1:\n",
    "        assert len(p1) == len(p2), \"p1 and p2 are not of the same dimension\"\n",
    "    diff = np.subtract(p1, p2)\n",
    "    diff2 = np.power(diff, 2)\n",
    "    sumdiff = np.sum(diff2, axis=((p1.ndim)-1))\n",
    "    return np.power(sumdiff, 0.5)"
   ]
  },
  {
   "cell_type": "markdown",
   "id": "821664c5-ca51-4003-af82-e58199534288",
   "metadata": {
    "editable": false
   },
   "source": [
    "**Question :** (a) Write a function that returns a matrix of distances between two sets of points X and Y, such that the element in the ith row and jth column is the distance between the ith row of X and the jth row of Y.\n",
    "\n",
    "Time your function."
   ]
  },
  {
   "cell_type": "code",
   "execution_count": 16,
   "id": "a9bfba33-75eb-4a22-aee0-f2c3c7b1ce6b",
   "metadata": {
    "tags": []
   },
   "outputs": [],
   "source": [
    "def dist_matrix_loop(X,Y):\n",
    "    \"\"\"\n",
    "    Calculate the pairwise Euclidean distance matrix between two sets of points using loops.\n",
    "\n",
    "    Parameters:\n",
    "    - X (np.ndarray): The first set of points with shape (m, d) where m is the number\n",
    "      of points and d is the dimensionality of each point.\n",
    "    - Y (np.ndarray): The second set of points with shape (n, d) where n is the number\n",
    "      of points and d is the dimensionality of each point.\n",
    "\n",
    "    Returns:\n",
    "    - result (np.ndarray): A matrix containing the Euclidean distances between each\n",
    "      pair of points from sets X and Y, with shape (m, n).\n",
    "\n",
    "    Note:\n",
    "    1. Both sets of points 'X' and 'Y' must have the same dimensionality (number of\n",
    "       coordinates) for valid distance calculation.\n",
    "    2. The Euclidean distance between each pair of points (X[i], Y[j]) is calculated\n",
    "       using the `dist_two_points` function.\n",
    "    \"\"\"\n",
    "    assert isinstance(X, np.ndarray) and isinstance(Y, np.ndarray), \"X and/or Y incorrect data type\"\n",
    "    assert X.ndim == X.ndim and len(X[0]) == len(Y[0]), \"X and Y are not of the same dimension\"\n",
    "    m = len(X)\n",
    "    n = len(Y)\n",
    "    result = np.zeros((m, n))\n",
    "    for i in range(m):\n",
    "        for j in range(n):\n",
    "            dist = dist_two_points(X[i], Y[j])\n",
    "            result[i, j] = dist\n",
    "    assert result[0,0] == dist_two_points(X[0], Y[0])\n",
    "    return result"
   ]
  },
  {
   "cell_type": "code",
   "execution_count": 16,
   "id": "8d561545-301b-4e23-9a37-9ef5eb64a4d3",
   "metadata": {
    "tags": []
   },
   "outputs": [
    {
     "name": "stdout",
     "output_type": "stream",
     "text": [
      "4.98 s ± 30.7 ms per loop (mean ± std. dev. of 7 runs, 1 loop each)\n"
     ]
    }
   ],
   "source": [
    "big_array = np.random.randint(1, 100, size=1000000)\n",
    "%timeit dist_matrix_loop(a,b)"
   ]
  },
  {
   "cell_type": "code",
   "execution_count": null,
   "id": "648a65c2-fbe0-4394-962b-6d6a3c531872",
   "metadata": {},
   "outputs": [],
   "source": []
  },
  {
   "cell_type": "markdown",
   "id": "da67321f-a82d-457c-99d2-47c5e27d699b",
   "metadata": {
    "editable": false
   },
   "source": [
    "**Question :** (c) Write a vectorized version, using broadcasting to compute the matrix of distances. Time your solution."
   ]
  },
  {
   "cell_type": "code",
   "execution_count": 23,
   "id": "0a401808-9796-446b-b90a-131efd6a0fda",
   "metadata": {
    "tags": []
   },
   "outputs": [],
   "source": [
    "def dist_matrix_broadcast(X,Y):\n",
    "    \"\"\"\n",
    "    Calculate the pairwise Euclidean distance matrix between two sets of points using broadcasting.\n",
    "\n",
    "    Parameters:\n",
    "    - X (np.ndarray): The first set of points with shape (m, d) where m is the number\n",
    "      of points and d is the dimensionality of each point.\n",
    "    - Y (np.ndarray): The second set of points with shape (n, d) where n is the number\n",
    "      of points and d is the dimensionality of each point.\n",
    "\n",
    "    Returns:\n",
    "    - result (np.ndarray): A matrix containing the Euclidean distances between each\n",
    "      pair of points from sets X and Y, with shape (m, n).\n",
    "\n",
    "    Note:\n",
    "    1. Both sets of points 'X' and 'Y' must have the same dimensionality (number of\n",
    "       coordinates) for valid distance calculation.\n",
    "    2. The Euclidean distance between each pair of points (X[i], Y[j]) is calculated\n",
    "       using the `dist_two_points` function and broadcasting.\n",
    "    \"\"\"\n",
    "    assert X.ndim == X.ndim and len(X[0]) == len(Y[0]), \"X and Y are not of the same dimension\"\n",
    "    X1 = X[:, None]\n",
    "    Y1 = Y[None, :]\n",
    "    result = dist_two_points(X1, Y1)\n",
    "    return result"
   ]
  },
  {
   "cell_type": "code",
   "execution_count": null,
   "id": "e25e3943-4e6d-4953-8296-af82e981d0ac",
   "metadata": {
    "tags": []
   },
   "outputs": [],
   "source": [
    "big_array = np.random.randint(1, 100, size=1000000)\n",
    "%timeit dist_matrix_broadcast(a,b)"
   ]
  },
  {
   "cell_type": "code",
   "execution_count": null,
   "id": "253d6109-3856-48be-bf4c-e276942f9085",
   "metadata": {},
   "outputs": [],
   "source": []
  },
  {
   "cell_type": "code",
   "execution_count": null,
   "id": "9ad7e5ba-7d9f-498f-ba16-23a6e647d4a2",
   "metadata": {},
   "outputs": [],
   "source": []
  }
 ],
 "metadata": {
  "kernelspec": {
   "display_name": "Python 3 (ipykernel)",
   "language": "python",
   "name": "python3"
  },
  "language_info": {
   "codemirror_mode": {
    "name": "ipython",
    "version": 3
   },
   "file_extension": ".py",
   "mimetype": "text/x-python",
   "name": "python",
   "nbconvert_exporter": "python",
   "pygments_lexer": "ipython3",
   "version": "3.11.7"
  }
 },
 "nbformat": 4,
 "nbformat_minor": 5
}
